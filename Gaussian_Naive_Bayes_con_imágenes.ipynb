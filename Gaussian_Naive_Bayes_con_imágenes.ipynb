{
  "nbformat": 4,
  "nbformat_minor": 0,
  "metadata": {
    "colab": {
      "name": "Gaussian Naive Bayes con imágenes.ipynb",
      "provenance": [],
      "authorship_tag": "ABX9TyMuhHQoWICEz1HdF+2Cs9hH",
      "include_colab_link": true
    },
    "kernelspec": {
      "name": "python3",
      "display_name": "Python 3"
    }
  },
  "cells": [
    {
      "cell_type": "markdown",
      "metadata": {
        "id": "view-in-github",
        "colab_type": "text"
      },
      "source": [
        "<a href=\"https://colab.research.google.com/github/lab-pep-itba/Intro-Probabilidad/blob/master/Gaussian_Naive_Bayes_con_im%C3%A1genes.ipynb\" target=\"_parent\"><img src=\"https://colab.research.google.com/assets/colab-badge.svg\" alt=\"Open In Colab\"/></a>"
      ]
    },
    {
      "cell_type": "code",
      "metadata": {
        "id": "T4W4r4GTNMen",
        "colab_type": "code",
        "colab": {
          "base_uri": "https://localhost:8080/",
          "height": 561
        },
        "outputId": "139e19c4-a9d8-4acc-9750-481433b1502e"
      },
      "source": [
        "! wget https://github.com/lab-pep-itba/Intro-Probabilidad/raw/master/sandalias.npy\n",
        "! wget https://github.com/lab-pep-itba/Intro-Probabilidad/raw/master/buzos.npy"
      ],
      "execution_count": 2,
      "outputs": [
        {
          "output_type": "stream",
          "text": [
            "--2020-04-14 01:03:51--  https://github.com/lab-pep-itba/Intro-Probabilidad/raw/master/sandalias.npy\n",
            "Resolving github.com (github.com)... 140.82.114.3\n",
            "Connecting to github.com (github.com)|140.82.114.3|:443... connected.\n",
            "HTTP request sent, awaiting response... 302 Found\n",
            "Location: https://raw.githubusercontent.com/lab-pep-itba/Intro-Probabilidad/master/sandalias.npy [following]\n",
            "--2020-04-14 01:03:52--  https://raw.githubusercontent.com/lab-pep-itba/Intro-Probabilidad/master/sandalias.npy\n",
            "Resolving raw.githubusercontent.com (raw.githubusercontent.com)... 151.101.0.133, 151.101.64.133, 151.101.128.133, ...\n",
            "Connecting to raw.githubusercontent.com (raw.githubusercontent.com)|151.101.0.133|:443... connected.\n",
            "HTTP request sent, awaiting response... 200 OK\n",
            "Length: 4704080 (4.5M) [application/octet-stream]\n",
            "Saving to: ‘sandalias.npy.2’\n",
            "\n",
            "sandalias.npy.2     100%[===================>]   4.49M  --.-KB/s    in 0.07s   \n",
            "\n",
            "2020-04-14 01:03:52 (64.6 MB/s) - ‘sandalias.npy.2’ saved [4704080/4704080]\n",
            "\n",
            "--2020-04-14 01:03:53--  https://github.com/lab-pep-itba/Intro-Probabilidad/raw/master/buzos.npy\n",
            "Resolving github.com (github.com)... 140.82.114.3\n",
            "Connecting to github.com (github.com)|140.82.114.3|:443... connected.\n",
            "HTTP request sent, awaiting response... 302 Found\n",
            "Location: https://raw.githubusercontent.com/lab-pep-itba/Intro-Probabilidad/master/buzos.npy [following]\n",
            "--2020-04-14 01:03:54--  https://raw.githubusercontent.com/lab-pep-itba/Intro-Probabilidad/master/buzos.npy\n",
            "Resolving raw.githubusercontent.com (raw.githubusercontent.com)... 151.101.0.133, 151.101.64.133, 151.101.128.133, ...\n",
            "Connecting to raw.githubusercontent.com (raw.githubusercontent.com)|151.101.0.133|:443... connected.\n",
            "HTTP request sent, awaiting response... 200 OK\n",
            "Length: 4704080 (4.5M) [application/octet-stream]\n",
            "Saving to: ‘buzos.npy’\n",
            "\n",
            "buzos.npy           100%[===================>]   4.49M  --.-KB/s    in 0.06s   \n",
            "\n",
            "2020-04-14 01:03:54 (70.4 MB/s) - ‘buzos.npy’ saved [4704080/4704080]\n",
            "\n"
          ],
          "name": "stdout"
        }
      ]
    },
    {
      "cell_type": "code",
      "metadata": {
        "id": "uAcIOgmRNlkL",
        "colab_type": "code",
        "colab": {}
      },
      "source": [
        "import numpy as np\n",
        "from matplotlib import pyplot as plt\n",
        "from sklearn.naive_bayes import GaussianNB"
      ],
      "execution_count": 0,
      "outputs": []
    },
    {
      "cell_type": "code",
      "metadata": {
        "id": "QhV5pkmMNuf2",
        "colab_type": "code",
        "colab": {}
      },
      "source": [
        "buzos = np.load('buzos.npy')\n",
        "sandalias = np.load('sandalias.npy')"
      ],
      "execution_count": 0,
      "outputs": []
    },
    {
      "cell_type": "code",
      "metadata": {
        "id": "glKZu7LBOS-S",
        "colab_type": "code",
        "colab": {
          "base_uri": "https://localhost:8080/",
          "height": 34
        },
        "outputId": "23988379-9c0b-44d5-84ac-b814de751dbb"
      },
      "source": [
        "buzos.reshape(-1, 28*28).shape"
      ],
      "execution_count": 23,
      "outputs": [
        {
          "output_type": "execute_result",
          "data": {
            "text/plain": [
              "(6000, 784)"
            ]
          },
          "metadata": {
            "tags": []
          },
          "execution_count": 23
        }
      ]
    },
    {
      "cell_type": "code",
      "metadata": {
        "id": "I7Yccyu8Odci",
        "colab_type": "code",
        "colab": {}
      },
      "source": [
        "X = np.vstack((buzos.reshape(-1, 28*28), sandalias.reshape(-1, 28*28)))"
      ],
      "execution_count": 0,
      "outputs": []
    },
    {
      "cell_type": "code",
      "metadata": {
        "id": "nZjcTitvPpVW",
        "colab_type": "code",
        "colab": {
          "base_uri": "https://localhost:8080/",
          "height": 34
        },
        "outputId": "a4d8ecaa-5b10-44c0-8405-82ff143c0921"
      },
      "source": [
        "X.shape"
      ],
      "execution_count": 36,
      "outputs": [
        {
          "output_type": "execute_result",
          "data": {
            "text/plain": [
              "(12000, 784)"
            ]
          },
          "metadata": {
            "tags": []
          },
          "execution_count": 36
        }
      ]
    },
    {
      "cell_type": "code",
      "metadata": {
        "id": "o4FEpRQqOsPb",
        "colab_type": "code",
        "colab": {}
      },
      "source": [
        "y = np.hstack(([0]*len(buzos), [1]*len(sandalias))).reshape(-1)"
      ],
      "execution_count": 0,
      "outputs": []
    },
    {
      "cell_type": "code",
      "metadata": {
        "id": "xQiGHKr8Pf7W",
        "colab_type": "code",
        "colab": {
          "base_uri": "https://localhost:8080/",
          "height": 34
        },
        "outputId": "1f3d546b-dadf-4553-9905-14726c3c6296"
      },
      "source": [
        "y.shape"
      ],
      "execution_count": 39,
      "outputs": [
        {
          "output_type": "execute_result",
          "data": {
            "text/plain": [
              "(12000,)"
            ]
          },
          "metadata": {
            "tags": []
          },
          "execution_count": 39
        }
      ]
    },
    {
      "cell_type": "code",
      "metadata": {
        "id": "lKtJbCw3OGfs",
        "colab_type": "code",
        "colab": {}
      },
      "source": [
        "clf = GaussianNB()"
      ],
      "execution_count": 0,
      "outputs": []
    },
    {
      "cell_type": "code",
      "metadata": {
        "id": "6ajgGXk8OIj0",
        "colab_type": "code",
        "colab": {
          "base_uri": "https://localhost:8080/",
          "height": 34
        },
        "outputId": "910c6f23-483b-4ee4-b660-9ad31c916395"
      },
      "source": [
        "clf.fit(X, y)"
      ],
      "execution_count": 41,
      "outputs": [
        {
          "output_type": "execute_result",
          "data": {
            "text/plain": [
              "GaussianNB(priors=None, var_smoothing=1e-09)"
            ]
          },
          "metadata": {
            "tags": []
          },
          "execution_count": 41
        }
      ]
    },
    {
      "cell_type": "code",
      "metadata": {
        "id": "oIc6znWUNxwY",
        "colab_type": "code",
        "colab": {
          "base_uri": "https://localhost:8080/",
          "height": 34
        },
        "outputId": "50dee27e-d9b6-405f-92ba-eaf32c0c779c"
      },
      "source": [
        "clf.score(X, y)"
      ],
      "execution_count": 42,
      "outputs": [
        {
          "output_type": "execute_result",
          "data": {
            "text/plain": [
              "0.9951666666666666"
            ]
          },
          "metadata": {
            "tags": []
          },
          "execution_count": 42
        }
      ]
    },
    {
      "cell_type": "code",
      "metadata": {
        "id": "VFXC22jVPzoF",
        "colab_type": "code",
        "colab": {}
      },
      "source": [
        ""
      ],
      "execution_count": 0,
      "outputs": []
    }
  ]
}