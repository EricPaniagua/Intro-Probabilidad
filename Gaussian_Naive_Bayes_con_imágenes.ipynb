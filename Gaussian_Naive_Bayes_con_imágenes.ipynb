{
  "nbformat": 4,
  "nbformat_minor": 0,
  "metadata": {
    "colab": {
      "name": "Gaussian Naive Bayes con imágenes.ipynb",
      "provenance": [],
      "authorship_tag": "ABX9TyPXqtLU5nXOCCKlki72V8kV",
      "include_colab_link": true
    },
    "kernelspec": {
      "name": "python3",
      "display_name": "Python 3"
    }
  },
  "cells": [
    {
      "cell_type": "markdown",
      "metadata": {
        "id": "view-in-github",
        "colab_type": "text"
      },
      "source": [
        "<a href=\"https://colab.research.google.com/github/lab-pep-itba/Intro-Probabilidad/blob/master/Gaussian_Naive_Bayes_con_im%C3%A1genes.ipynb\" target=\"_parent\"><img src=\"https://colab.research.google.com/assets/colab-badge.svg\" alt=\"Open In Colab\"/></a>"
      ]
    },
    {
      "cell_type": "code",
      "metadata": {
        "id": "T4W4r4GTNMen",
        "colab_type": "code",
        "colab": {
          "base_uri": "https://localhost:8080/",
          "height": 561
        },
        "outputId": "8a910b52-7d3b-486f-e420-2e2d5076627a"
      },
      "source": [
        "! wget https://github.com/lab-pep-itba/Intro-Probabilidad/raw/master/sandalias.npy\n",
        "! wget https://github.com/lab-pep-itba/Intro-Probabilidad/raw/master/buzos.npy"
      ],
      "execution_count": 1,
      "outputs": [
        {
          "output_type": "stream",
          "text": [
            "--2020-04-14 01:49:59--  https://github.com/lab-pep-itba/Intro-Probabilidad/raw/master/sandalias.npy\n",
            "Resolving github.com (github.com)... 140.82.113.3\n",
            "Connecting to github.com (github.com)|140.82.113.3|:443... connected.\n",
            "HTTP request sent, awaiting response... 302 Found\n",
            "Location: https://raw.githubusercontent.com/lab-pep-itba/Intro-Probabilidad/master/sandalias.npy [following]\n",
            "--2020-04-14 01:50:00--  https://raw.githubusercontent.com/lab-pep-itba/Intro-Probabilidad/master/sandalias.npy\n",
            "Resolving raw.githubusercontent.com (raw.githubusercontent.com)... 151.101.0.133, 151.101.64.133, 151.101.128.133, ...\n",
            "Connecting to raw.githubusercontent.com (raw.githubusercontent.com)|151.101.0.133|:443... connected.\n",
            "HTTP request sent, awaiting response... 200 OK\n",
            "Length: 4704080 (4.5M) [application/octet-stream]\n",
            "Saving to: ‘sandalias.npy’\n",
            "\n",
            "sandalias.npy       100%[===================>]   4.49M  --.-KB/s    in 0.1s    \n",
            "\n",
            "2020-04-14 01:50:00 (30.9 MB/s) - ‘sandalias.npy’ saved [4704080/4704080]\n",
            "\n",
            "--2020-04-14 01:50:02--  https://github.com/lab-pep-itba/Intro-Probabilidad/raw/master/buzos.npy\n",
            "Resolving github.com (github.com)... 140.82.114.4\n",
            "Connecting to github.com (github.com)|140.82.114.4|:443... connected.\n",
            "HTTP request sent, awaiting response... 302 Found\n",
            "Location: https://raw.githubusercontent.com/lab-pep-itba/Intro-Probabilidad/master/buzos.npy [following]\n",
            "--2020-04-14 01:50:02--  https://raw.githubusercontent.com/lab-pep-itba/Intro-Probabilidad/master/buzos.npy\n",
            "Resolving raw.githubusercontent.com (raw.githubusercontent.com)... 151.101.0.133, 151.101.64.133, 151.101.128.133, ...\n",
            "Connecting to raw.githubusercontent.com (raw.githubusercontent.com)|151.101.0.133|:443... connected.\n",
            "HTTP request sent, awaiting response... 200 OK\n",
            "Length: 4704080 (4.5M) [application/octet-stream]\n",
            "Saving to: ‘buzos.npy’\n",
            "\n",
            "buzos.npy           100%[===================>]   4.49M  --.-KB/s    in 0.06s   \n",
            "\n",
            "2020-04-14 01:50:03 (73.3 MB/s) - ‘buzos.npy’ saved [4704080/4704080]\n",
            "\n"
          ],
          "name": "stdout"
        }
      ]
    },
    {
      "cell_type": "code",
      "metadata": {
        "id": "uAcIOgmRNlkL",
        "colab_type": "code",
        "colab": {}
      },
      "source": [
        "import numpy as np\n",
        "from matplotlib import pyplot as plt\n",
        "from sklearn.naive_bayes import GaussianNB"
      ],
      "execution_count": 0,
      "outputs": []
    },
    {
      "cell_type": "code",
      "metadata": {
        "id": "QhV5pkmMNuf2",
        "colab_type": "code",
        "colab": {}
      },
      "source": [
        "# Cargo imágenes\n",
        "buzos = np.load('buzos.npy')\n",
        "sandalias = np.load('sandalias.npy')"
      ],
      "execution_count": 0,
      "outputs": []
    },
    {
      "cell_type": "code",
      "metadata": {
        "id": "glKZu7LBOS-S",
        "colab_type": "code",
        "colab": {
          "base_uri": "https://localhost:8080/",
          "height": 34
        },
        "outputId": "cdbc15bc-d3e1-4d1b-d3d6-68db022c9d32"
      },
      "source": [
        "# No le puedo pasar imágenes al GaussianNB por eso el reshape. El 28x28 se transforma en 784\n",
        "buzos.reshape(-1, 28*28).shape"
      ],
      "execution_count": 9,
      "outputs": [
        {
          "output_type": "execute_result",
          "data": {
            "text/plain": [
              "(6000, 784)"
            ]
          },
          "metadata": {
            "tags": []
          },
          "execution_count": 9
        }
      ]
    },
    {
      "cell_type": "code",
      "metadata": {
        "id": "I7Yccyu8Odci",
        "colab_type": "code",
        "colab": {}
      },
      "source": [
        "# Armo X como el stack vertical entre sandalias y buzos\n",
        "X = np.vstack((buzos.reshape(-1, 28*28), sandalias.reshape(-1, 28*28)))"
      ],
      "execution_count": 0,
      "outputs": []
    },
    {
      "cell_type": "code",
      "metadata": {
        "id": "nZjcTitvPpVW",
        "colab_type": "code",
        "colab": {
          "base_uri": "https://localhost:8080/",
          "height": 34
        },
        "outputId": "d6e44bda-b54c-45d4-8c2d-c0116f674b15"
      },
      "source": [
        "# Verifico dimensiones, son 6000 sand y 6000 buzos\n",
        "X.shape"
      ],
      "execution_count": 10,
      "outputs": [
        {
          "output_type": "execute_result",
          "data": {
            "text/plain": [
              "(12000, 784)"
            ]
          },
          "metadata": {
            "tags": []
          },
          "execution_count": 10
        }
      ]
    },
    {
      "cell_type": "code",
      "metadata": {
        "id": "o4FEpRQqOsPb",
        "colab_type": "code",
        "colab": {}
      },
      "source": [
        "# Armo y como la concatenación entre 6000 ceros para los buzos y 6000 unos para las sandalias\n",
        "y = np.hstack(([0]*len(buzos), [1]*len(sandalias))).reshape(-1)"
      ],
      "execution_count": 0,
      "outputs": []
    },
    {
      "cell_type": "code",
      "metadata": {
        "id": "xQiGHKr8Pf7W",
        "colab_type": "code",
        "colab": {
          "base_uri": "https://localhost:8080/",
          "height": 34
        },
        "outputId": "f6437b4a-271e-4d96-d0f1-36ac2696ee27"
      },
      "source": [
        "# Verifico dimensiones\n",
        "y.shape"
      ],
      "execution_count": 8,
      "outputs": [
        {
          "output_type": "execute_result",
          "data": {
            "text/plain": [
              "(12000,)"
            ]
          },
          "metadata": {
            "tags": []
          },
          "execution_count": 8
        }
      ]
    },
    {
      "cell_type": "code",
      "metadata": {
        "id": "lKtJbCw3OGfs",
        "colab_type": "code",
        "colab": {}
      },
      "source": [
        "# Instancio modelo\n",
        "clf = GaussianNB()"
      ],
      "execution_count": 0,
      "outputs": []
    },
    {
      "cell_type": "code",
      "metadata": {
        "id": "6ajgGXk8OIj0",
        "colab_type": "code",
        "colab": {
          "base_uri": "https://localhost:8080/",
          "height": 34
        },
        "outputId": "6de52678-d1e7-4122-a494-cea41a2ea600"
      },
      "source": [
        "# Entreno\n",
        "clf.fit(X, y)"
      ],
      "execution_count": 12,
      "outputs": [
        {
          "output_type": "execute_result",
          "data": {
            "text/plain": [
              "GaussianNB(priors=None, var_smoothing=1e-09)"
            ]
          },
          "metadata": {
            "tags": []
          },
          "execution_count": 12
        }
      ]
    },
    {
      "cell_type": "code",
      "metadata": {
        "id": "oIc6znWUNxwY",
        "colab_type": "code",
        "colab": {
          "base_uri": "https://localhost:8080/",
          "height": 34
        },
        "outputId": "46437eca-7911-4adf-8660-8589ad5df32c"
      },
      "source": [
        "# Imprimo accuracy\n",
        "clf.score(X, y)"
      ],
      "execution_count": 13,
      "outputs": [
        {
          "output_type": "execute_result",
          "data": {
            "text/plain": [
              "0.9951666666666666"
            ]
          },
          "metadata": {
            "tags": []
          },
          "execution_count": 13
        }
      ]
    },
    {
      "cell_type": "code",
      "metadata": {
        "id": "VFXC22jVPzoF",
        "colab_type": "code",
        "colab": {}
      },
      "source": [
        ""
      ],
      "execution_count": 0,
      "outputs": []
    }
  ]
}