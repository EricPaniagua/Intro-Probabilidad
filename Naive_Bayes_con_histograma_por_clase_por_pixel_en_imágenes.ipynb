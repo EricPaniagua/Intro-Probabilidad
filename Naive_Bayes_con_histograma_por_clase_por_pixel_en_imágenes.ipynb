{
  "nbformat": 4,
  "nbformat_minor": 0,
  "metadata": {
    "colab": {
      "name": "Naive Bayes con histograma por clase en imágenes.ipynb",
      "provenance": [],
      "authorship_tag": "ABX9TyNHL/rPClNgbUjHwiBKwxst",
      "include_colab_link": true
    },
    "kernelspec": {
      "name": "python3",
      "display_name": "Python 3"
    }
  },
  "cells": [
    {
      "cell_type": "markdown",
      "metadata": {
        "id": "view-in-github",
        "colab_type": "text"
      },
      "source": [
        "<a href=\"https://colab.research.google.com/github/lab-pep-itba/Intro-Probabilidad/blob/master/Naive_Bayes_con_histograma_por_clase_por_pixel_en_im%C3%A1genes.ipynb\" target=\"_parent\"><img src=\"https://colab.research.google.com/assets/colab-badge.svg\" alt=\"Open In Colab\"/></a>"
      ]
    },
    {
      "cell_type": "code",
      "metadata": {
        "id": "T4W4r4GTNMen",
        "colab_type": "code",
        "outputId": "deb27a40-1003-438f-a797-f876639b7e9d",
        "colab": {
          "base_uri": "https://localhost:8080/",
          "height": 561
        }
      },
      "source": [
        "! wget https://github.com/lab-pep-itba/Intro-Probabilidad/raw/master/sandalias.npy\n",
        "! wget https://github.com/lab-pep-itba/Intro-Probabilidad/raw/master/buzos.npy"
      ],
      "execution_count": 1,
      "outputs": [
        {
          "output_type": "stream",
          "text": [
            "--2020-04-14 02:30:01--  https://github.com/lab-pep-itba/Intro-Probabilidad/raw/master/sandalias.npy\n",
            "Resolving github.com (github.com)... 140.82.112.4\n",
            "Connecting to github.com (github.com)|140.82.112.4|:443... connected.\n",
            "HTTP request sent, awaiting response... 302 Found\n",
            "Location: https://raw.githubusercontent.com/lab-pep-itba/Intro-Probabilidad/master/sandalias.npy [following]\n",
            "--2020-04-14 02:30:02--  https://raw.githubusercontent.com/lab-pep-itba/Intro-Probabilidad/master/sandalias.npy\n",
            "Resolving raw.githubusercontent.com (raw.githubusercontent.com)... 151.101.0.133, 151.101.64.133, 151.101.128.133, ...\n",
            "Connecting to raw.githubusercontent.com (raw.githubusercontent.com)|151.101.0.133|:443... connected.\n",
            "HTTP request sent, awaiting response... 200 OK\n",
            "Length: 4704080 (4.5M) [application/octet-stream]\n",
            "Saving to: ‘sandalias.npy’\n",
            "\n",
            "sandalias.npy       100%[===================>]   4.49M  --.-KB/s    in 0.1s    \n",
            "\n",
            "2020-04-14 02:30:02 (43.3 MB/s) - ‘sandalias.npy’ saved [4704080/4704080]\n",
            "\n",
            "--2020-04-14 02:30:03--  https://github.com/lab-pep-itba/Intro-Probabilidad/raw/master/buzos.npy\n",
            "Resolving github.com (github.com)... 140.82.113.3\n",
            "Connecting to github.com (github.com)|140.82.113.3|:443... connected.\n",
            "HTTP request sent, awaiting response... 302 Found\n",
            "Location: https://raw.githubusercontent.com/lab-pep-itba/Intro-Probabilidad/master/buzos.npy [following]\n",
            "--2020-04-14 02:30:04--  https://raw.githubusercontent.com/lab-pep-itba/Intro-Probabilidad/master/buzos.npy\n",
            "Resolving raw.githubusercontent.com (raw.githubusercontent.com)... 151.101.0.133, 151.101.64.133, 151.101.128.133, ...\n",
            "Connecting to raw.githubusercontent.com (raw.githubusercontent.com)|151.101.0.133|:443... connected.\n",
            "HTTP request sent, awaiting response... 200 OK\n",
            "Length: 4704080 (4.5M) [application/octet-stream]\n",
            "Saving to: ‘buzos.npy’\n",
            "\n",
            "buzos.npy           100%[===================>]   4.49M  18.4MB/s    in 0.2s    \n",
            "\n",
            "2020-04-14 02:30:04 (18.4 MB/s) - ‘buzos.npy’ saved [4704080/4704080]\n",
            "\n"
          ],
          "name": "stdout"
        }
      ]
    },
    {
      "cell_type": "code",
      "metadata": {
        "id": "dgqmzglzgwzx",
        "colab_type": "code",
        "outputId": "2621b2a3-41a8-4c35-f687-86f71bc21e41",
        "colab": {
          "base_uri": "https://localhost:8080/",
          "height": 204
        }
      },
      "source": [
        "! wget https://raw.githubusercontent.com/lab-pep-itba/Intro-Probabilidad/master/HistogramBasedNaiveBayes.py"
      ],
      "execution_count": 2,
      "outputs": [
        {
          "output_type": "stream",
          "text": [
            "--2020-04-14 02:30:06--  https://raw.githubusercontent.com/lab-pep-itba/Intro-Probabilidad/master/HistogramBasedNaiveBayes.py\n",
            "Resolving raw.githubusercontent.com (raw.githubusercontent.com)... 151.101.0.133, 151.101.64.133, 151.101.128.133, ...\n",
            "Connecting to raw.githubusercontent.com (raw.githubusercontent.com)|151.101.0.133|:443... connected.\n",
            "HTTP request sent, awaiting response... 200 OK\n",
            "Length: 3678 (3.6K) [text/plain]\n",
            "Saving to: ‘HistogramBasedNaiveBayes.py’\n",
            "\n",
            "\r          Histogram   0%[                    ]       0  --.-KB/s               \rHistogramBasedNaive 100%[===================>]   3.59K  --.-KB/s    in 0s      \n",
            "\n",
            "2020-04-14 02:30:06 (68.1 MB/s) - ‘HistogramBasedNaiveBayes.py’ saved [3678/3678]\n",
            "\n"
          ],
          "name": "stdout"
        }
      ]
    },
    {
      "cell_type": "code",
      "metadata": {
        "id": "MWNP3fx-ha6c",
        "colab_type": "code",
        "colab": {}
      },
      "source": [
        ""
      ],
      "execution_count": 0,
      "outputs": []
    },
    {
      "cell_type": "code",
      "metadata": {
        "id": "uAcIOgmRNlkL",
        "colab_type": "code",
        "colab": {}
      },
      "source": [
        "import numpy as np\n",
        "from matplotlib import pyplot as plt"
      ],
      "execution_count": 0,
      "outputs": []
    },
    {
      "cell_type": "code",
      "metadata": {
        "id": "QhV5pkmMNuf2",
        "colab_type": "code",
        "colab": {}
      },
      "source": [
        "# Cargo imágenes\n",
        "buzos = np.load('buzos.npy')\n",
        "sandalias = np.load('sandalias.npy')"
      ],
      "execution_count": 0,
      "outputs": []
    },
    {
      "cell_type": "code",
      "metadata": {
        "id": "lo1PexP_huUr",
        "colab_type": "code",
        "colab": {}
      },
      "source": [
        "train_images = np.vstack([sandalias, buzos])\n",
        "train_labels = np.hstack([np.zeros(sandalias.shape[0]), np.ones(buzos.shape[0])]).astype(int)"
      ],
      "execution_count": 0,
      "outputs": []
    },
    {
      "cell_type": "code",
      "metadata": {
        "id": "VxDgu--fgW8s",
        "colab_type": "code",
        "colab": {}
      },
      "source": [
        "from HistogramBasedNaiveBayes import HistogramBasedNaiveBayes as HistogramBasedNaiveBayes"
      ],
      "execution_count": 0,
      "outputs": []
    },
    {
      "cell_type": "code",
      "metadata": {
        "id": "Sp2AslmudNG8",
        "colab_type": "code",
        "colab": {}
      },
      "source": [
        "# Para ver detalles de que hace mirar archivo HistogramBasedNaiveBayes.py\n",
        "histogramBasedNaiveBayes_clf = HistogramBasedNaiveBayes()"
      ],
      "execution_count": 0,
      "outputs": []
    },
    {
      "cell_type": "code",
      "metadata": {
        "id": "JRekjDozhhnt",
        "colab_type": "code",
        "colab": {
          "base_uri": "https://localhost:8080/",
          "height": 51
        },
        "outputId": "64de2d1e-e507-4141-fec3-bab9f57d6f63"
      },
      "source": [
        "data_reshaped = train_images.reshape(train_images.shape[0],-1)\n",
        "%time histogramBasedNaiveBayes_clf.fit(data_reshaped, train_labels)"
      ],
      "execution_count": 11,
      "outputs": [
        {
          "output_type": "stream",
          "text": [
            "CPU times: user 10.2 s, sys: 8.71 ms, total: 10.2 s\n",
            "Wall time: 10.2 s\n"
          ],
          "name": "stdout"
        }
      ]
    },
    {
      "cell_type": "code",
      "metadata": {
        "id": "lM78DdtfhllB",
        "colab_type": "code",
        "colab": {}
      },
      "source": [
        "y_predicted = histogramBasedNaiveBayes_clf.predict(data_reshaped)"
      ],
      "execution_count": 0,
      "outputs": []
    },
    {
      "cell_type": "code",
      "metadata": {
        "id": "HX_deRwBiAlQ",
        "colab_type": "code",
        "colab": {
          "base_uri": "https://localhost:8080/",
          "height": 34
        },
        "outputId": "244c9a52-c885-4f0f-9015-81108fc58105"
      },
      "source": [
        "# Accuracy\n",
        "(y_predicted == train_labels).sum()/train_labels.shape[0]"
      ],
      "execution_count": 13,
      "outputs": [
        {
          "output_type": "execute_result",
          "data": {
            "text/plain": [
              "0.9975"
            ]
          },
          "metadata": {
            "tags": []
          },
          "execution_count": 13
        }
      ]
    },
    {
      "cell_type": "code",
      "metadata": {
        "id": "r2a3cXuLiGfJ",
        "colab_type": "code",
        "colab": {}
      },
      "source": [
        ""
      ],
      "execution_count": 0,
      "outputs": []
    }
  ]
}