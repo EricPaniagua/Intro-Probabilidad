{
  "nbformat": 4,
  "nbformat_minor": 0,
  "metadata": {
    "colab": {
      "name": "Naive Bayes con histograma por clase en imágenes.ipynb",
      "provenance": [],
      "authorship_tag": "ABX9TyO3BgZ+1xgRYM0YbKGacUEj",
      "include_colab_link": true
    },
    "kernelspec": {
      "name": "python3",
      "display_name": "Python 3"
    }
  },
  "cells": [
    {
      "cell_type": "markdown",
      "metadata": {
        "id": "view-in-github",
        "colab_type": "text"
      },
      "source": [
        "<a href=\"https://colab.research.google.com/github/lab-pep-itba/Intro-Probabilidad/blob/master/Naive_Bayes_con_histograma_por_clase_por_pixel_en_im%C3%A1genes.ipynb\" target=\"_parent\"><img src=\"https://colab.research.google.com/assets/colab-badge.svg\" alt=\"Open In Colab\"/></a>"
      ]
    },
    {
      "cell_type": "code",
      "metadata": {
        "id": "T4W4r4GTNMen",
        "colab_type": "code",
        "outputId": "425c65df-9c53-44f9-9fe9-b67fd815b363",
        "colab": {
          "base_uri": "https://localhost:8080/",
          "height": 561
        }
      },
      "source": [
        "! wget https://github.com/lab-pep-itba/Intro-Probabilidad/raw/master/sandalias.npy\n",
        "! wget https://github.com/lab-pep-itba/Intro-Probabilidad/raw/master/buzos.npy"
      ],
      "execution_count": 14,
      "outputs": [
        {
          "output_type": "stream",
          "text": [
            "--2020-04-14 02:25:27--  https://github.com/lab-pep-itba/Intro-Probabilidad/raw/master/sandalias.npy\n",
            "Resolving github.com (github.com)... 140.82.114.4\n",
            "Connecting to github.com (github.com)|140.82.114.4|:443... connected.\n",
            "HTTP request sent, awaiting response... 302 Found\n",
            "Location: https://raw.githubusercontent.com/lab-pep-itba/Intro-Probabilidad/master/sandalias.npy [following]\n",
            "--2020-04-14 02:25:28--  https://raw.githubusercontent.com/lab-pep-itba/Intro-Probabilidad/master/sandalias.npy\n",
            "Resolving raw.githubusercontent.com (raw.githubusercontent.com)... 151.101.0.133, 151.101.64.133, 151.101.128.133, ...\n",
            "Connecting to raw.githubusercontent.com (raw.githubusercontent.com)|151.101.0.133|:443... connected.\n",
            "HTTP request sent, awaiting response... 200 OK\n",
            "Length: 4704080 (4.5M) [application/octet-stream]\n",
            "Saving to: ‘sandalias.npy.1’\n",
            "\n",
            "sandalias.npy.1     100%[===================>]   4.49M  --.-KB/s    in 0.1s    \n",
            "\n",
            "2020-04-14 02:25:28 (44.5 MB/s) - ‘sandalias.npy.1’ saved [4704080/4704080]\n",
            "\n",
            "--2020-04-14 02:25:30--  https://github.com/lab-pep-itba/Intro-Probabilidad/raw/master/buzos.npy\n",
            "Resolving github.com (github.com)... 140.82.114.4\n",
            "Connecting to github.com (github.com)|140.82.114.4|:443... connected.\n",
            "HTTP request sent, awaiting response... 302 Found\n",
            "Location: https://raw.githubusercontent.com/lab-pep-itba/Intro-Probabilidad/master/buzos.npy [following]\n",
            "--2020-04-14 02:25:30--  https://raw.githubusercontent.com/lab-pep-itba/Intro-Probabilidad/master/buzos.npy\n",
            "Resolving raw.githubusercontent.com (raw.githubusercontent.com)... 151.101.0.133, 151.101.64.133, 151.101.128.133, ...\n",
            "Connecting to raw.githubusercontent.com (raw.githubusercontent.com)|151.101.0.133|:443... connected.\n",
            "HTTP request sent, awaiting response... 200 OK\n",
            "Length: 4704080 (4.5M) [application/octet-stream]\n",
            "Saving to: ‘buzos.npy.1’\n",
            "\n",
            "buzos.npy.1         100%[===================>]   4.49M  19.0MB/s    in 0.2s    \n",
            "\n",
            "2020-04-14 02:25:31 (19.0 MB/s) - ‘buzos.npy.1’ saved [4704080/4704080]\n",
            "\n"
          ],
          "name": "stdout"
        }
      ]
    },
    {
      "cell_type": "code",
      "metadata": {
        "id": "dgqmzglzgwzx",
        "colab_type": "code",
        "colab": {
          "base_uri": "https://localhost:8080/",
          "height": 204
        },
        "outputId": "51506b01-e282-4706-e641-500804c3e22a"
      },
      "source": [
        "! wget https://raw.githubusercontent.com/lab-pep-itba/Intro-Probabilidad/master/HistogramBasedNaiveBayes.py"
      ],
      "execution_count": 17,
      "outputs": [
        {
          "output_type": "stream",
          "text": [
            "--2020-04-14 02:28:31--  https://raw.githubusercontent.com/lab-pep-itba/Intro-Probabilidad/master/HistogramBasedNaiveBayes.py\n",
            "Resolving raw.githubusercontent.com (raw.githubusercontent.com)... 151.101.0.133, 151.101.64.133, 151.101.128.133, ...\n",
            "Connecting to raw.githubusercontent.com (raw.githubusercontent.com)|151.101.0.133|:443... connected.\n",
            "HTTP request sent, awaiting response... 200 OK\n",
            "Length: 3678 (3.6K) [text/plain]\n",
            "Saving to: ‘HistogramBasedNaiveBayes.py’\n",
            "\n",
            "\r          Histogram   0%[                    ]       0  --.-KB/s               \rHistogramBasedNaive 100%[===================>]   3.59K  --.-KB/s    in 0s      \n",
            "\n",
            "2020-04-14 02:28:32 (76.1 MB/s) - ‘HistogramBasedNaiveBayes.py’ saved [3678/3678]\n",
            "\n"
          ],
          "name": "stdout"
        }
      ]
    },
    {
      "cell_type": "code",
      "metadata": {
        "id": "uAcIOgmRNlkL",
        "colab_type": "code",
        "colab": {}
      },
      "source": [
        "import numpy as np\n",
        "from matplotlib import pyplot as plt"
      ],
      "execution_count": 0,
      "outputs": []
    },
    {
      "cell_type": "code",
      "metadata": {
        "id": "QhV5pkmMNuf2",
        "colab_type": "code",
        "colab": {}
      },
      "source": [
        "# Cargo imágenes\n",
        "buzos = np.load('buzos.npy')\n",
        "sandalias = np.load('sandalias.npy')"
      ],
      "execution_count": 0,
      "outputs": []
    },
    {
      "cell_type": "code",
      "metadata": {
        "id": "VxDgu--fgW8s",
        "colab_type": "code",
        "colab": {}
      },
      "source": [
        "from HistogramBasedNaiveBayes import HistogramBasedNaiveBayes as HistogramBasedNaiveBayes"
      ],
      "execution_count": 0,
      "outputs": []
    },
    {
      "cell_type": "code",
      "metadata": {
        "id": "k4YZ1QcvcASs",
        "colab_type": "code",
        "colab": {}
      },
      "source": [
        "niveles = 256\n",
        "pixeles = list(range(niveles))\n",
        "total_pixeles = sandalias.shape[0]*sandalias.shape[1]*sandalias.shape[2]"
      ],
      "execution_count": 0,
      "outputs": []
    },
    {
      "cell_type": "code",
      "metadata": {
        "id": "KwIH7Eihbmcr",
        "colab_type": "code",
        "colab": {}
      },
      "source": [
        "hist_sandalias = []\n",
        "for pixel in pixeles:\n",
        "    # notar sandalias == pixel\n",
        "    prob_sand_pixel = (sandalias == pixel).sum() / total_pixeles\n",
        "    hist_sandalias.append(prob_sand_pixel)"
      ],
      "execution_count": 0,
      "outputs": []
    },
    {
      "cell_type": "code",
      "metadata": {
        "id": "jb3NuhR0cfZN",
        "colab_type": "code",
        "outputId": "6218e609-7d1f-4dd9-debf-fd0a767b510a",
        "colab": {
          "base_uri": "https://localhost:8080/",
          "height": 265
        }
      },
      "source": [
        "# Sacamos el cero por claridad\n",
        "plt.bar(pixeles[1:], hist_sandalias[1:])\n",
        "plt.show()"
      ],
      "execution_count": 0,
      "outputs": [
        {
          "output_type": "display_data",
          "data": {
            "image/png": "[encoded data removed]",
            "text/plain": [
              "<Figure size 432x288 with 1 Axes>"
            ]
          },
          "metadata": {
            "tags": [],
            "needs_background": "light"
          }
        }
      ]
    },
    {
      "cell_type": "code",
      "metadata": {
        "id": "J3ZxujGabtqV",
        "colab_type": "code",
        "colab": {}
      },
      "source": [
        "hist_buzos = []\n",
        "for pixel in pixeles:\n",
        "    prob_buzos_pixel = (buzos == pixel).sum() / total_pixeles\n",
        "    hist_buzos.append(prob_buzos_pixel)"
      ],
      "execution_count": 0,
      "outputs": []
    },
    {
      "cell_type": "code",
      "metadata": {
        "id": "POF--7RccioM",
        "colab_type": "code",
        "outputId": "52a4e862-fa24-41ab-eb4e-271e0b0ae31c",
        "colab": {
          "base_uri": "https://localhost:8080/",
          "height": 265
        }
      },
      "source": [
        "# Sacamos el cero por claridad\n",
        "plt.bar(pixeles[1:], hist_buzos[1:])\n",
        "plt.show()"
      ],
      "execution_count": 0,
      "outputs": [
        {
          "output_type": "display_data",
          "data": {
            "image/png": "[encoded data removed]",
            "text/plain": [
              "<Figure size 432x288 with 1 Axes>"
            ]
          },
          "metadata": {
            "tags": [],
            "needs_background": "light"
          }
        }
      ]
    },
    {
      "cell_type": "code",
      "metadata": {
        "id": "VFXC22jVPzoF",
        "colab_type": "code",
        "colab": {}
      },
      "source": [
        "def es_sandalia(imagen, hist_sandalias, hist_buzos, prior_sand=0.5,  prior_buz=0.5):\n",
        "    # devuelve true si es sandalia, false si es buzo\n",
        "    log_sand = np.log(np.array(hist_sandalias)[imagen.reshape(-1)]).sum() \n",
        "    + np.log(prior_sand)\n",
        "    log_buz = np.log(np.array(hist_buzos)[imagen.reshape(-1)]).sum() \n",
        "    + np.log(prior_buz)\n",
        "    return log_sand>log_buz"
      ],
      "execution_count": 0,
      "outputs": []
    },
    {
      "cell_type": "code",
      "metadata": {
        "id": "geV36x7adEFy",
        "colab_type": "code",
        "colab": {}
      },
      "source": [
        "n_correct_buzos = 0\n",
        "for buzo in buzos:\n",
        "    n_correct_buzos+= not es_sandalia(buzo, hist_sandalias, hist_buzos)\n",
        "acc_buz = n_correct_buzos/len(buzos)"
      ],
      "execution_count": 0,
      "outputs": []
    },
    {
      "cell_type": "code",
      "metadata": {
        "id": "EmNBYO2TdGC1",
        "colab_type": "code",
        "colab": {}
      },
      "source": [
        "n_correct_sand = 0\n",
        "for sand in sandalias:\n",
        "    n_correct_sand+=  es_sandalia(sand, hist_sandalias, hist_buzos)\n",
        "acc_sand = n_correct_sand/len(sandalias)"
      ],
      "execution_count": 0,
      "outputs": []
    },
    {
      "cell_type": "code",
      "metadata": {
        "id": "lMOVxCTTdIgi",
        "colab_type": "code",
        "colab": {}
      },
      "source": [
        "acc = (n_correct_buzos+n_correct_sand)/(len(sandalias)+len(buzos))"
      ],
      "execution_count": 0,
      "outputs": []
    },
    {
      "cell_type": "code",
      "metadata": {
        "id": "lCdoMPQpdK0H",
        "colab_type": "code",
        "outputId": "3cee387a-0eed-41a8-a0f2-1945acc2473f",
        "colab": {
          "base_uri": "https://localhost:8080/",
          "height": 68
        }
      },
      "source": [
        "print(f'Accuracy: {acc}')\n",
        "print(f'Accuracy Sandalias: {acc_sand}')\n",
        "print(f'Accuracy Buzos: {acc_buz}')"
      ],
      "execution_count": 0,
      "outputs": [
        {
          "output_type": "stream",
          "text": [
            "Accuracy: 0.9556666666666667\n",
            "Accuracy Sandalias: 0.9576666666666667\n",
            "Accuracy Buzos: 0.9536666666666667\n"
          ],
          "name": "stdout"
        }
      ]
    },
    {
      "cell_type": "code",
      "metadata": {
        "id": "Sp2AslmudNG8",
        "colab_type": "code",
        "colab": {}
      },
      "source": [
        ""
      ],
      "execution_count": 0,
      "outputs": []
    }
  ]
}